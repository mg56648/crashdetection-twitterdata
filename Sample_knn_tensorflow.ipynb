{
 "cells": [
  {
   "cell_type": "markdown",
   "metadata": {},
   "source": [
    "__Los Angeles link between two hospitals__"
   ]
  },
  {
   "cell_type": "markdown",
   "metadata": {},
   "source": [
    "__Initial Features:__ \n",
    "- Time of the Day\n",
    "- Day of the week\n",
    "- Weather conditions\n",
    "- Temperature"
   ]
  },
  {
   "cell_type": "code",
   "execution_count": 8,
   "metadata": {},
   "outputs": [],
   "source": [
    "import csv # csv module\n",
    "import tensorflow as tf # Tensorflow module"
   ]
  },
  {
   "cell_type": "code",
   "execution_count": 9,
   "metadata": {},
   "outputs": [],
   "source": [
    "training_set = []\n",
    "training_set_y = []"
   ]
  },
  {
   "cell_type": "code",
   "execution_count": 10,
   "metadata": {},
   "outputs": [],
   "source": [
    "# Preparing Training Data set \n",
    "# Extracting each parameter into different list.\n",
    "with open(\"TRAIN_SET.csv\",\"r\") as file:\n",
    "    reader = csv.reader(file)\n",
    "    for row in reader:\n",
    "        training_set.append([row[1],row[3],row[4],row[5]])\n",
    "        training_set_y.append(row[6])"
   ]
  },
  {
   "cell_type": "code",
   "execution_count": 11,
   "metadata": {},
   "outputs": [],
   "source": [
    "# Excluding the first column from the list (which is nothing but name column)\n",
    "training_set = training_set[1:]\n",
    "training_set_y = training_set_y[1:]"
   ]
  },
  {
   "cell_type": "code",
   "execution_count": 12,
   "metadata": {},
   "outputs": [],
   "source": [
    "testing_set = []"
   ]
  },
  {
   "cell_type": "code",
   "execution_count": 13,
   "metadata": {},
   "outputs": [],
   "source": [
    "# Preparing Test data set\n",
    "# Extracting each parameter into different list.\n",
    "with open(\"TEST_SET.csv\",\"r\") as file:\n",
    "    reader = csv.reader(file)\n",
    "    for row in reader:\n",
    "        testing_set.append([row[1],row[3],row[4],row[5]])"
   ]
  },
  {
   "cell_type": "code",
   "execution_count": 14,
   "metadata": {},
   "outputs": [],
   "source": [
    "# Excluding the first column from the list (which is nothing but name column)\n",
    "testing_set = testing_set[1:]"
   ]
  },
  {
   "cell_type": "code",
   "execution_count": 15,
   "metadata": {},
   "outputs": [],
   "source": [
    "# Placeholder you can assign values in future its kind of a variable\n",
    "#  v = (\"variable type\",None) -- You can assign any number of variables for v\n",
    "#  v = (\"variable type\",4)    -- You can assign 4 variables for v\n",
    "#  v = (\"variable type\",[None,4])  -- you can have multidimensional values here \n",
    "# Here the no.of rows you can have any number but the columns are fixed with size 4\n",
    "training_values = tf.placeholder(\"float\",[None,len(training_set[0])])\n",
    "test_values     = tf.placeholder(\"float\",[len(training_set[0])])"
   ]
  },
  {
   "cell_type": "code",
   "execution_count": 18,
   "metadata": {},
   "outputs": [],
   "source": [
    "# This is the distance formula to calculate the distance between the test values and the training values\n",
    "distance = tf.reduce_sum(tf.abs(tf.add(training_values,tf.negative(test_values))),reduction_indices=1)"
   ]
  },
  {
   "cell_type": "code",
   "execution_count": 19,
   "metadata": {},
   "outputs": [
    {
     "name": "stdout",
     "output_type": "stream",
     "text": [
      "WARNING:tensorflow:From <ipython-input-19-6ffbdede63d7>:2: arg_min (from tensorflow.python.ops.gen_math_ops) is deprecated and will be removed in a future version.\n",
      "Instructions for updating:\n",
      "Use `argmin` instead\n"
     ]
    }
   ],
   "source": [
    "# Returns the index with the smallest value across dimensions of a tensor\n",
    "prediction = tf.arg_min(distance,0)"
   ]
  },
  {
   "cell_type": "code",
   "execution_count": 20,
   "metadata": {},
   "outputs": [
    {
     "name": "stdout",
     "output_type": "stream",
     "text": [
      "WARNING:tensorflow:From /home/stent/.local/lib/python3.5/site-packages/tensorflow/python/util/tf_should_use.py:118: initialize_all_variables (from tensorflow.python.ops.variables) is deprecated and will be removed after 2017-03-02.\n",
      "Instructions for updating:\n",
      "Use `tf.global_variables_initializer` instead.\n"
     ]
    }
   ],
   "source": [
    "# Initializing  the session\n",
    "init = tf.initialize_all_variables()"
   ]
  },
  {
   "cell_type": "code",
   "execution_count": 25,
   "metadata": {},
   "outputs": [
    {
     "name": "stdout",
     "output_type": "stream",
     "text": [
      "Test 0, and the prediction is 19.9833333333\n",
      "Test 1, and the prediction is 17.1333333333\n"
     ]
    }
   ],
   "source": [
    "# Starting the calculation process\n",
    "# For every test sample, the above \"distance\" formula will get called and the distance formula will return the \n",
    "# distances from the traning set values to the test sample and then the \"prediction\" will return the smallest \n",
    "# distance index.\n",
    "with tf.Session() as sess:\n",
    "    sess.run(init)\n",
    "    # Looping through the test set to compare against the training set\n",
    "    for i in range (len(testing_set)):\n",
    "        # Tensor flow method to get the prediction nearer to the test parameters from the training set.\n",
    "        index_in_trainingset = sess.run(prediction,feed_dict={training_values:training_set,test_values:testing_set[i]})\t\n",
    "\n",
    "        print (\"Test %d, and the prediction is %s\" %(i,training_set_y[index_in_trainingset]))\n"
   ]
  },
  {
   "cell_type": "markdown",
   "metadata": {},
   "source": [
    "# Additional features"
   ]
  },
  {
   "cell_type": "markdown",
   "metadata": {},
   "source": [
    "- Data from twitter\n",
    "- Latitutde and longitude (split into blocks per area and consider the cluster groups apart from the distance"
   ]
  },
  {
   "cell_type": "code",
   "execution_count": null,
   "metadata": {},
   "outputs": [],
   "source": []
  }
 ],
 "metadata": {
  "kernelspec": {
   "display_name": "Python 2",
   "language": "python",
   "name": "python2"
  },
  "language_info": {
   "codemirror_mode": {
    "name": "ipython",
    "version": 2
   },
   "file_extension": ".py",
   "mimetype": "text/x-python",
   "name": "python",
   "nbconvert_exporter": "python",
   "pygments_lexer": "ipython2",
   "version": "2.7.14"
  }
 },
 "nbformat": 4,
 "nbformat_minor": 2
}
