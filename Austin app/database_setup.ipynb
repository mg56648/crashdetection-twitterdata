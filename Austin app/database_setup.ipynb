{
 "cells": [
  {
   "cell_type": "code",
   "execution_count": 1,
   "metadata": {},
   "outputs": [],
   "source": [
    "# Configuration\n",
    "from sqlalchemy import Column, ForeignKey, Integer, String, Float\n",
    "from sqlalchemy.ext.declarative import declarative_base\n",
    "\n",
    "Base = declarative_base()\n",
    "# End of Configuration"
   ]
  },
  {
   "cell_type": "code",
   "execution_count": 2,
   "metadata": {},
   "outputs": [],
   "source": [
    "# Class Summary\n",
    "class Summary(Base):\n",
    "    __tablename__ = 'Summary'\n",
    "\n",
    "    Id = Column(Integer, primary_key=True, nullable=False)\n",
    "    Avg_Travel_Time = Column(Float, nullable=False)\n",
    "    Destination = Column(String(250), nullable=False)\n",
    "    Origin = Column(String(250), nullable=False)\n",
    "    Sample_count = Column(Integer, nullable=False)\n",
    "    Time = Column(Integer, nullable=False)\n",
    "    Weekday = Column(Integer, nullable=False)\n",
    "    Year = Column(Integer, nullable=False)\n",
    "\n",
    "    @property\n",
    "    def serialize(self):\n",
    "        return {\n",
    "            'Id': self.Id,\n",
    "            'Avg_Travel_Time': self.Avg_Travel_Time,\n",
    "            'Destination': self.Destination,\n",
    "            'Origin': self.Origin,\n",
    "            'Sample_count': self.Sample_count,\n",
    "            'Time': self.Time,\n",
    "            'Weekday': self.Weekday,\n",
    "            'Year': self.Year\n",
    "        }\n"
   ]
  },
  {
   "cell_type": "code",
   "execution_count": 3,
   "metadata": {},
   "outputs": [],
   "source": [
    "# Class\n",
    "class TravelSensor(Base):\n",
    "    __tablename__ = 'TravelSensor'\n",
    "    ID = Column(Integer, primary_key=True, nullable=False)\n",
    "    READER_ID = Column(String(250), nullable=False)\n",
    "    LATITUDE = Column(Float, nullable=False)\n",
    "    LONGITUDE = Column(Float, nullable=False)\n",
    "\n",
    "    @property\n",
    "    def serialize(self):\n",
    "        return {\n",
    "            'id': self.ID,\n",
    "            'reader_id': self.READER_ID,\n",
    "            'latitude': self.LATITUDE,\n",
    "            'longtitude': self.LONGITUDE\n",
    "        }"
   ]
  },
  {
   "cell_type": "code",
   "execution_count": null,
   "metadata": {},
   "outputs": [],
   "source": []
  }
 ],
 "metadata": {
  "kernelspec": {
   "display_name": "Python 2",
   "language": "python",
   "name": "python2"
  },
  "language_info": {
   "codemirror_mode": {
    "name": "ipython",
    "version": 2
   },
   "file_extension": ".py",
   "mimetype": "text/x-python",
   "name": "python",
   "nbconvert_exporter": "python",
   "pygments_lexer": "ipython2",
   "version": "2.7.14"
  }
 },
 "nbformat": 4,
 "nbformat_minor": 2
}
