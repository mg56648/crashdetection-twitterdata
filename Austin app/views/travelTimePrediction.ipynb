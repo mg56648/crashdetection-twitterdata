{
 "cells": [
  {
   "cell_type": "code",
   "execution_count": 1,
   "metadata": {},
   "outputs": [],
   "source": [
    "from util import time_list, weekday_list\n",
    "from flask import Blueprint, render_template, request\n",
    "from database_setup import Base, TravelSensor, Summary\n",
    "from database_init import db_session\n",
    "from route import time_prediction"
   ]
  },
  {
   "cell_type": "code",
   "execution_count": 2,
   "metadata": {},
   "outputs": [],
   "source": [
    "travelTimePrediction = Blueprint('travelTimePrediction', __name__)"
   ]
  },
  {
   "cell_type": "code",
   "execution_count": 3,
   "metadata": {},
   "outputs": [],
   "source": [
    "@travelTimePrediction.route(\"/travelTimePrediction\", methods=['GET', 'POST'])\n",
    "def travelTimePrediction_function():\n",
    "    travelSensors = db_session.query(TravelSensor).all()\n",
    "    startTimeList = time_list()\n",
    "    weekdayList = weekday_list()\n",
    "    time_pre = None\n",
    "    origin = 'congress_oltorf'\n",
    "    destination = 'congress_11th'\n",
    "    start_time = 37\n",
    "    weekday = 0\n",
    "\n",
    "    if request.method == 'POST':\n",
    "        origin = request.form['origin']\n",
    "        destination = request.form['destination']\n",
    "        start_time = int(request.form['start_time'])\n",
    "        weekday = int(request.form['weekday'])\n",
    "        minutes = (start_time - 1) * 15\n",
    "        time_pre = time_prediction.findRoute(origin, destination, minutes, weekday)\n",
    "        if time_pre['time'] != -1:\n",
    "            time_pre['time'] = round(time_pre['time']/60, 2)\n",
    "\n",
    "    return render_template(\"travelTimePrediction.html\", travelSensors=travelSensors, time_pre=time_pre, startTimeList=startTimeList, weekdayList=weekdayList, weekday=weekday, origin = origin, destination = destination, start_time = start_time)"
   ]
  },
  {
   "cell_type": "code",
   "execution_count": null,
   "metadata": {},
   "outputs": [],
   "source": []
  }
 ],
 "metadata": {
  "kernelspec": {
   "display_name": "Python 2",
   "language": "python",
   "name": "python2"
  },
  "language_info": {
   "codemirror_mode": {
    "name": "ipython",
    "version": 2
   },
   "file_extension": ".py",
   "mimetype": "text/x-python",
   "name": "python",
   "nbconvert_exporter": "python",
   "pygments_lexer": "ipython2",
   "version": "2.7.14"
  }
 },
 "nbformat": 4,
 "nbformat_minor": 2
}
