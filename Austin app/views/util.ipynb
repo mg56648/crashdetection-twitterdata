{
 "cells": [
  {
   "cell_type": "code",
   "execution_count": 1,
   "metadata": {},
   "outputs": [],
   "source": [
    "from __future__ import print_function\n",
    "import sys"
   ]
  },
  {
   "cell_type": "code",
   "execution_count": 2,
   "metadata": {},
   "outputs": [],
   "source": [
    "def console_print(string):\n",
    "    print(string, file=sys.stderr)"
   ]
  },
  {
   "cell_type": "code",
   "execution_count": 3,
   "metadata": {},
   "outputs": [],
   "source": [
    "def time_list():\n",
    "    timeList = []\n",
    "    for i in range(0, 4*24):\n",
    "        if (i % 4) * 15 == 0:\n",
    "            timeList.append(str(i / 4) + \":00\")\n",
    "        else:\n",
    "            timeList.append(str(i / 4) + \":\" + str((i % 4) * 15))\n",
    "    return timeList"
   ]
  },
  {
   "cell_type": "code",
   "execution_count": 4,
   "metadata": {},
   "outputs": [],
   "source": [
    "def weekday_list():\n",
    "    weekdayList = []\n",
    "    weekdayList.append('Monday')\n",
    "    weekdayList.append('Tuesday')\n",
    "    weekdayList.append('Wednesday')\n",
    "    weekdayList.append('Thursday')\n",
    "    weekdayList.append('Friday')\n",
    "    weekdayList.append('Saturday')\n",
    "    weekdayList.append('Sunday')\n",
    "    return weekdayList"
   ]
  },
  {
   "cell_type": "code",
   "execution_count": 5,
   "metadata": {},
   "outputs": [],
   "source": [
    "def FindRoadConnectToCorridor(travelsensors):\n",
    "    latitude = []\n",
    "    longitude = []\n",
    "    readerID = []\n",
    "    for sensor in travelsensors:\n",
    "        latitude.append(sensor.LATITUDE)\n",
    "        longitude.append(sensor.LONGITUDE)\n",
    "        readerID.append(sensor.READER_ID)\n",
    "\n",
    "    if max(latitude) - min(latitude) > max(longitude) - min(longitude):\n",
    "        latitude_sort = sorted(latitude)\n",
    "        direction = 'Northbound'\n",
    "        readerID_sort = []\n",
    "        for l in latitude_sort:\n",
    "            ind = latitude.index(l)\n",
    "            readerID_sort.append(readerID[ind].lower())\n",
    "    elif max(latitude) - min(latitude) < max(longitude) - min(longitude):\n",
    "        longitude_sort = sorted(longitude)\n",
    "        direction = 'Eastbound'\n",
    "        readerID_sort = []\n",
    "        for l in longitude_sort:\n",
    "            ind = longitude.index(l)\n",
    "            readerID_sort.append(readerID[ind].lower())\n",
    "\n",
    "    return readerID_sort, direction"
   ]
  },
  {
   "cell_type": "code",
   "execution_count": 6,
   "metadata": {},
   "outputs": [],
   "source": [
    "def CheckConnection(data_summary,corridor_intersection_all):\n",
    "\n",
    "    ODpair = []\n",
    "    for data in data_summary:\n",
    "        ODpair.append(data.Origin.lower()+data.Destination.lower())\n",
    "\n",
    "    corridor_intersection = []\n",
    "    skip = False\n",
    "    for i in range(len(corridor_intersection_all)-1):\n",
    "        if skip:\n",
    "            if next_intersection == corridor_intersection_all[i]:\n",
    "                skip = False\n",
    "            else:\n",
    "                continue\n",
    "        x = corridor_intersection_all[i]+corridor_intersection_all[i+1]\n",
    "\n",
    "        # Pair of intersections with data are included\n",
    "        if x in ODpair and i < len(corridor_intersection_all) - 2:\n",
    "            corridor_intersection.append(corridor_intersection_all[i])\n",
    "        # end condition\n",
    "        elif x in ODpair and i == len(corridor_intersection_all) - 2:\n",
    "            corridor_intersection.append(corridor_intersection_all[i])\n",
    "            corridor_intersection.append(corridor_intersection_all[i+1])\n",
    "        # Search for next pair of intersections with data\n",
    "        else:\n",
    "            n = i\n",
    "            while (n < len(corridor_intersection_all)-2 and x not in ODpair):\n",
    "                n = n+1\n",
    "                x = corridor_intersection_all[i]+corridor_intersection_all[n+1]\n",
    "\n",
    "            if x in ODpair:\n",
    "                corridor_intersection.append(corridor_intersection_all[i])\n",
    "                next_intersection = corridor_intersection_all[n+1]\n",
    "                skip = True\n",
    "    return corridor_intersection"
   ]
  },
  {
   "cell_type": "code",
   "execution_count": 7,
   "metadata": {},
   "outputs": [],
   "source": [
    "def example_function():\n",
    "    return \"return value\""
   ]
  },
  {
   "cell_type": "code",
   "execution_count": null,
   "metadata": {},
   "outputs": [],
   "source": []
  }
 ],
 "metadata": {
  "kernelspec": {
   "display_name": "Python 2",
   "language": "python",
   "name": "python2"
  },
  "language_info": {
   "codemirror_mode": {
    "name": "ipython",
    "version": 2
   },
   "file_extension": ".py",
   "mimetype": "text/x-python",
   "name": "python",
   "nbconvert_exporter": "python",
   "pygments_lexer": "ipython2",
   "version": "2.7.14"
  }
 },
 "nbformat": 4,
 "nbformat_minor": 2
}
