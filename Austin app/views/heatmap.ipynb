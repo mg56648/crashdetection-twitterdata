{
 "cells": [
  {
   "cell_type": "code",
   "execution_count": 1,
   "metadata": {},
   "outputs": [],
   "source": [
    "from flask import Blueprint, render_template\n",
    "from corridorTravelTime import corridor_traveltime"
   ]
  },
  {
   "cell_type": "code",
   "execution_count": 2,
   "metadata": {},
   "outputs": [],
   "source": [
    "heatmap = Blueprint('heatmap', __name__)"
   ]
  },
  {
   "cell_type": "code",
   "execution_count": 3,
   "metadata": {},
   "outputs": [],
   "source": [
    "@heatmap.route(\"/heatmap\", methods=['GET'])\n",
    "def heatmap_function():\n",
    "    startTimeList = []\n",
    "    for i in range(0, 4*24):\n",
    "        if (i % 4) * 15 == 0:\n",
    "            startTimeList.append(str(i / 4) + \":00\")\n",
    "        else:\n",
    "            startTimeList.append(str(i / 4) + \":\" + str((i % 4) * 15))\n",
    "\n",
    "    Corridor_name = 'lamar'\n",
    "    year_selected = 2016\n",
    "    weekday_selected = 0 # Monday is 0\n",
    "    [Normalized_traveltime, Average_traveltime, Direction, Corridor_intersection] = corridor_traveltime(Corridor_name, year_selected, weekday_selected)\n",
    "    # Normalized_traveltime: contains Z-score of traveltime (drawing color base on this.) N[0]: N or E N[1]: S bound\n",
    "    # Average_traveltime: contains raw traveltime (drawing color base on this.) N[0]: N or E N[1]: S bound\n",
    "    # Direction: D[0]: \"Northbound\" or \"Eastbound\"\n",
    "    # Corridor_intersection: C[0] = ['lamar&1','lamar&2',...,'lamar&last']\n",
    "    datamatrix=[]\n",
    "    datamatrix_second=[]\n",
    "    for i in range(0, len(startTimeList)-1):\n",
    "        for j in range(0,len(Corridor_intersection[0])-2):\n",
    "            if Normalized_traveltime[0][j][i] <= 0.000000001:\n",
    "                Normalized_traveltime[0][j][i] = 0\n",
    "            datamatrix.append(tuple([i,j,Normalized_traveltime[0][j][i]]))\n",
    "        for j in range(0,len(Corridor_intersection[1])-2):\n",
    "            if Normalized_traveltime[1][j][i] <= 0.000000001:\n",
    "                Normalized_traveltime[1][j][i] = 0\n",
    "            datamatrix_second.append(tuple([i,j,Normalized_traveltime[1][j][i]]))\n",
    "    return render_template(\"heatmap.html\", startTimeList=startTimeList, traveltime_N=Normalized_traveltime , traveltime_bar=Average_traveltime, Direction=Direction, Corridor_intersection=Corridor_intersection, result=datamatrix, result2=datamatrix_second)"
   ]
  },
  {
   "cell_type": "code",
   "execution_count": null,
   "metadata": {},
   "outputs": [],
   "source": []
  }
 ],
 "metadata": {
  "kernelspec": {
   "display_name": "Python 2",
   "language": "python",
   "name": "python2"
  },
  "language_info": {
   "codemirror_mode": {
    "name": "ipython",
    "version": 2
   },
   "file_extension": ".py",
   "mimetype": "text/x-python",
   "name": "python",
   "nbconvert_exporter": "python",
   "pygments_lexer": "ipython2",
   "version": "2.7.14"
  }
 },
 "nbformat": 4,
 "nbformat_minor": 2
}
