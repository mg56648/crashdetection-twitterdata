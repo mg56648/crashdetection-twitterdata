{
 "cells": [
  {
   "cell_type": "code",
   "execution_count": 2,
   "metadata": {},
   "outputs": [],
   "source": [
    "from util import console_print, time_list, weekday_list\n",
    "from flask import Blueprint, render_template, request\n",
    "from database_setup import TravelSensor, Summary\n",
    "from sqlalchemy.orm import aliased\n",
    "from database_init import db_session"
   ]
  },
  {
   "cell_type": "code",
   "execution_count": 3,
   "metadata": {},
   "outputs": [],
   "source": [
    "historyStats = Blueprint('historyStats', __name__)"
   ]
  },
  {
   "cell_type": "code",
   "execution_count": 4,
   "metadata": {},
   "outputs": [],
   "source": [
    "@historyStats.route(\"/historyStats\", methods=['GET'])\n",
    "def historyStats_function():\n",
    "    # Generate display strings for frontend.\n",
    "    timeList = time_list()\n",
    "    weekdayList = weekday_list()\n",
    "\n",
    "    # Parse request params and set default values.\n",
    "    year = request.args.get('year')\n",
    "    if year is None:\n",
    "        year = 2017\n",
    "    else:\n",
    "        year = int(year)\n",
    "\n",
    "    weekday = request.args.get('weekday')\n",
    "    if weekday is None:\n",
    "        weekday = 0\n",
    "    else:\n",
    "        weekday = int(weekday)\n",
    "\n",
    "    time = request.args.get('time')\n",
    "    start_time = 37\n",
    "    if time is None:\n",
    "        time = 0\n",
    "    else:\n",
    "        start_time = int(time)\n",
    "        time = (int(time) - 1) * 15\n",
    "\n",
    "    # Query database for average travel time and travel sensor geographic data.\n",
    "    origin = aliased(TravelSensor, name='origin')\n",
    "    destination = aliased(TravelSensor, name='destination')\n",
    "\n",
    "    result = db_session.query(Summary.Origin, Summary.Destination, Summary.Time, Summary.Weekday, Summary.Avg_Travel_Time, origin, destination).\\\n",
    "        join(origin, Summary.Origin == origin.READER_ID).\\\n",
    "        join(destination, Summary.Destination == destination.READER_ID).\\\n",
    "        filter(Summary.Weekday == weekday, Summary.Time == time, Summary.Year == year)\n",
    "\n",
    "    traffic_list = result.all()\n",
    "    console_print(\"result count: \" + str(result.count()))\n",
    "    # console_print(\"result count: \" + str(db_session.query(TravelSensor).all()))\n",
    "\n",
    "    # console_print(\"result count: \" + str(result.column_descriptions))\n",
    "\n",
    "    return render_template(\"historyStats.html\", traffic_list=traffic_list, timeList=timeList, start_time=start_time, weekdayList=weekdayList, weekday=weekday)"
   ]
  },
  {
   "cell_type": "code",
   "execution_count": null,
   "metadata": {},
   "outputs": [],
   "source": []
  }
 ],
 "metadata": {
  "kernelspec": {
   "display_name": "Python 2",
   "language": "python",
   "name": "python2"
  },
  "language_info": {
   "codemirror_mode": {
    "name": "ipython",
    "version": 2
   },
   "file_extension": ".py",
   "mimetype": "text/x-python",
   "name": "python",
   "nbconvert_exporter": "python",
   "pygments_lexer": "ipython2",
   "version": "2.7.14"
  }
 },
 "nbformat": 4,
 "nbformat_minor": 2
}
