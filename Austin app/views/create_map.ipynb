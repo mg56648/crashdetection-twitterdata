{
 "cells": [
  {
   "cell_type": "code",
   "execution_count": 8,
   "metadata": {},
   "outputs": [],
   "source": [
    "from database_setup import TravelSensor, Summary\n",
    "from database_init import db_session\n",
    "import cPickle as pickle"
   ]
  },
  {
   "cell_type": "code",
   "execution_count": 9,
   "metadata": {},
   "outputs": [],
   "source": [
    "class Map:\n",
    "    READER_IDs = []\n",
    "    ADJ_INTERSECTIONS = {}\n",
    "\n",
    "    def get_map_from_database(self):\n",
    "        travelSensors = db_session.query(TravelSensor).all()\n",
    "        self.READER_IDs = [x.READER_ID for x in travelSensors]\n",
    "        for sensor in self.READER_IDs:\n",
    "            adjs = db_session.query(Summary.Destination).filter(Summary.Origin==sensor).distinct(Summary.Destination).all()\n",
    "            self.ADJ_INTERSECTIONS[sensor] = [adj[0] for adj in adjs]\n",
    "            print sensor\n",
    "            print self.ADJ_INTERSECTIONS[sensor]\n",
    "\n",
    "    def get_map_from_file(self):\n",
    "        ADJ_INTERSECTIONS = pickle.load(open('map.dump','rb'))\n",
    "        self.ADJ_INTERSECTIONS = ADJ_INTERSECTIONS\n",
    "\n",
    "    def create_map_cache(self):\n",
    "        self.get_map_from_database()\n",
    "        output = open('map.dump', 'wb')\n",
    "        pickle.dump(m.ADJ_INTERSECTIONS, output)\n",
    "        output.close()\n"
   ]
  },
  {
   "cell_type": "code",
   "execution_count": 16,
   "metadata": {},
   "outputs": [
    {
     "name": "stdout",
     "output_type": "stream",
     "text": [
      "{}\n"
     ]
    }
   ],
   "source": [
    "if __name__ == '__main__':\n",
    "    m = Map()\n",
    "    #m.get_map_from_database()\n",
    "    m.get_map_from_file()\n",
    "    print m.ADJ_INTERSECTIONS\n",
    "    #m.create_map_cache()"
   ]
  },
  {
   "cell_type": "code",
   "execution_count": null,
   "metadata": {},
   "outputs": [],
   "source": [
    "    #def get_map_from_file(self):\n",
    "        #try:\n",
    "            #ADJ_INTERSECTIONS = pickle.load(open(\"map.dump\",\"rb\"))\n",
    "        #except (OSError, IOError, EOFError) as e:\n",
    "            #ADJ_INTERSECTIONS = pickle.dump(open(\"map.dump\", \"wb\"))\n",
    "        \n",
    "        #self.ADJ_INTERSECTIONS = ADJ_INTERSECTIONS"
   ]
  }
 ],
 "metadata": {
  "kernelspec": {
   "display_name": "Python 2",
   "language": "python",
   "name": "python2"
  },
  "language_info": {
   "codemirror_mode": {
    "name": "ipython",
    "version": 2
   },
   "file_extension": ".py",
   "mimetype": "text/x-python",
   "name": "python",
   "nbconvert_exporter": "python",
   "pygments_lexer": "ipython2",
   "version": "2.7.14"
  }
 },
 "nbformat": 4,
 "nbformat_minor": 2
}
